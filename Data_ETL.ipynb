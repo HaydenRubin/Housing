{
 "cells": [
  {
   "cell_type": "code",
   "execution_count": 1,
   "metadata": {},
   "outputs": [],
   "source": [
    "import pandas as pd\n",
    "from sqlalchemy import create_engine\n",
    "\n",
    "# Imports the methods needed to abstract classes into tables\n",
    "from sqlalchemy.ext.declarative import declarative_base\n",
    "Base = declarative_base()\n",
    "\n",
    "# Allow us to declare column types\n",
    "from sqlalchemy import Column, Integer, String, Float\n",
    "\n",
    "from sqlalchemy.orm import Session,sessionmaker\n",
    "\n",
    "#function(file,year)\n",
    "#run the fucntion 10 times to get 10 df\n",
    "#change column name,remove 1st row,add date cloumn, add year column\n",
    "#combine 10 dataframes\n",
    "#load final dataframe into database"
   ]
  },
  {
   "cell_type": "code",
   "execution_count": 2,
   "metadata": {},
   "outputs": [],
   "source": [
    "#Declar the file path of each year\n",
    "file_path_2019='raw_data/USHousing-2019.csv'\n",
    "file_path_2018='raw_data/USHousing-2018.csv'\n",
    "file_path_2017='raw_data/USHousing-2017.csv'\n",
    "file_path_2016='raw_data/USHousing-2016.csv'\n",
    "file_path_2015='raw_data/USHousing-2015.csv'\n",
    "file_path_2014='raw_data/USHousing-2014.csv'\n",
    "file_path_2013='raw_data/USHousing-2013.csv'\n",
    "file_path_2012='raw_data/USHousing-2012.csv'\n",
    "file_path_2011='raw_data/USHousing-2011.csv'\n",
    "file_path_2010='raw_data/USHousing-2010.csv'"
   ]
  },
  {
   "cell_type": "code",
   "execution_count": 3,
   "metadata": {},
   "outputs": [],
   "source": [
    "#function to transform the raw data\n",
    "def data_transf(file_path,year):\n",
    "    origin_df=pd.read_csv(file_path)\n",
    "    \n",
    "    extract_df=origin_df[['NAME','DP04_0001E','DP04_0002E','DP04_0002PE','DP04_0007E','DP04_0008E','DP04_0009E',\n",
    "                       'DP04_0010E','DP04_0011E','DP04_0012E','DP04_0013E','DP04_0014E','DP04_0015E',\n",
    "                       'DP04_0039E','DP04_0040E','DP04_0041E','DP04_0042E','DP04_0043E','DP04_0044E',\n",
    "                       'DP04_0080E','DP04_0089E','DP04_0110E','DP04_0111E','DP04_0112E',\n",
    "                       'DP04_0113E','DP04_0114E','DP04_0115E','DP04_0116E','DP04_0117E','DP04_0118E','DP04_0119E',\n",
    "                       'DP04_0120E','DP04_0121E','DP04_0122E','DP04_0123E','DP04_0124E','DP04_0125E']]\n",
    "    \n",
    "    renamed_df=extract_df.rename(columns={'NAME':'state','DP04_0001E':'total_housing_units','DP04_0002E':'occupied_units','DP04_0002PE':'occupied_perc','DP04_0007E':'unit_det_1',\n",
    "                                'DP04_0008E':'unit_att_1','DP04_0009E':'units_2','DP04_0010E':'units_3or4','DP04_0011E':'units_5to9','DP04_0012E':'units_10to19',\n",
    "                                'DP04_0013E':'units_20more','DP04_0014E':'mobile_home','DP04_0015E':'boat_rv_van','DP04_0039E':'no_bedroom','DP04_0040E':'one_bedroom',\n",
    "                                'DP04_0041E':'two_bedrooms','DP04_0042E':'three_bedrooms','DP04_0043E':'four_bedrooms','DP04_0044E':'five_ormore_bedrooms','DP04_0080E':'owner_occupied_units',\n",
    "                                'DP04_0089E':'house_median_value','DP04_0110E':'units_smocapi_m','DP04_0111E':'smocapi_20_perc_less_m','DP04_0112E':'smocapi_20to249_perc_m',\n",
    "                                'DP04_0113E':'smocapi_25to299_perc_m','DP04_0114E':'smocapi_30to349_perc_m','DP04_0115E':'smocapi_35perc_more_m','DP04_0116E':'smocapi_not_computed_m',\n",
    "                                'DP04_0117E':'units_smocapi_nm','DP04_0118E':'smocapi_10perc_less_nm','DP04_0119E':'smocapi_10to149_perc_nm','DP04_0120E':'smocapi_15to199_perc_nm',\n",
    "                                'DP04_0121E':'smocapi_20to249_perc_nm','DP04_0122E':'smocapi_25to299_perc_nm','DP04_0123E':'smocapi_30to349_perc_nm','DP04_0124E':'smocapi_35perc_more_nm',\n",
    "                                'DP04_0125E':'smocapi_not_computed_nm'})\n",
    "    \n",
    "    renamed_df['year']=year\n",
    "    renamed_df['date']=f'{year}-01-01'\n",
    "    \n",
    "    row_df=renamed_df.iloc[1:52,:]\n",
    "    \n",
    "    \n",
    "    return row_df\n"
   ]
  },
  {
   "cell_type": "code",
   "execution_count": 4,
   "metadata": {},
   "outputs": [],
   "source": [
    "#cleanup/transform each dataset\n",
    "final_2019=data_transf(file_path_2019,2019)\n",
    "final_2018=data_transf(file_path_2019,2018)\n",
    "final_2017=data_transf(file_path_2019,2017)\n",
    "final_2016=data_transf(file_path_2019,2016)\n",
    "final_2015=data_transf(file_path_2019,2015)\n",
    "final_2014=data_transf(file_path_2019,2014)\n",
    "final_2013=data_transf(file_path_2019,2013)\n",
    "final_2012=data_transf(file_path_2019,2012)\n",
    "final_2011=data_transf(file_path_2019,2011)\n",
    "final_2010=data_transf(file_path_2019,2010)"
   ]
  },
  {
   "cell_type": "code",
   "execution_count": 5,
   "metadata": {},
   "outputs": [],
   "source": [
    "merged_df=pd.concat([final_2019,final_2018,final_2017,final_2016,final_2015,final_2014,final_2013,final_2012,final_2011,final_2010])\n",
    "final_df=merged_df.reset_index(drop=True)\n",
    "\n",
    "state_code_df=pd.read_csv(\"raw_data/states-code.csv\")\n",
    "state_codes=state_code_df.rename(columns={'State':'state','Abbrev':'abbrev','Code':'code'})\n",
    "\n",
    "left_join=pd.merge(final_df,state_codes,on='state',how='left')\n",
    "left_join['primary_key']=left_join['code']+'_'+left_join['year'].astype(str)"
   ]
  },
  {
   "cell_type": "code",
   "execution_count": 6,
   "metadata": {},
   "outputs": [],
   "source": [
    "#left_join.to_csv('final_dataset.csv',index=False)"
   ]
  },
  {
   "cell_type": "code",
   "execution_count": 7,
   "metadata": {},
   "outputs": [],
   "source": [
    "# create your class\n",
    "class Housing(Base):\n",
    "    __tablename__ = 'housing_10to19'\n",
    "    __table_args__ = {'extend_existing': True} \n",
    "    state = Column(String)\n",
    "    total_housing_units = Column(Integer)\n",
    "    occupied_units = Column(Integer)\n",
    "    occupied_perc = Column(Float)\n",
    "    unit_det_1=Column(Integer)\n",
    "    unit_att_1 = Column(Integer)\n",
    "    units_2 = Column(Integer)\n",
    "    units_3or4 = Column(Integer)\n",
    "    units_5to9 = Column(Integer)\n",
    "    units_10to19 = Column(Integer)\n",
    "    units_20more = Column(Integer)\n",
    "    mobile_home = Column(Integer)\n",
    "    boat_rv_van = Column(Integer)\n",
    "    no_bedroom = Column(Integer)\n",
    "    one_bedroom = Column(Integer)\n",
    "    two_bedrooms = Column(Integer)\n",
    "    three_bedrooms = Column(Integer)\n",
    "    four_bedrooms = Column(Integer)\n",
    "    five_ormore_bedrooms = Column(Integer)\n",
    "    owner_occupied_units = Column(Integer)\n",
    "    house_median_value = Column(Integer)\n",
    "    units_smocapi_m = Column(Integer)\n",
    "    smocapi_20_perc_less_m = Column(Integer)\n",
    "    smocapi_20to249_perc_m = Column(Integer)\n",
    "    smocapi_25to299_perc_m = Column(Integer)\n",
    "    smocapi_30to349_perc_m = Column(Integer)\n",
    "    smocapi_35perc_more_m = Column(Integer)\n",
    "    smocapi_not_computed_m = Column(Integer)\n",
    "    units_smocapi_nm = Column(Integer)\n",
    "    smocapi_10perc_less_nm = Column(Integer)\n",
    "    smocapi_10to149_perc_nm = Column(Integer)\n",
    "    smocapi_15to199_perc_nm = Column(Integer)\n",
    "    smocapi_20to249_perc_nm = Column(Integer)\n",
    "    smocapi_25to299_perc_nm = Column(Integer)\n",
    "    smocapi_30to349_perc_nm = Column(Integer)\n",
    "    smocapi_35perc_more_nm = Column(Integer)\n",
    "    smocapi_not_computed_nm = Column(Integer)\n",
    "    year = Column(Integer)\n",
    "    date= Column(String)\n",
    "    abbrev = Column(String)\n",
    "    code= Column(String)\n",
    "    primary_key = Column (String,primary_key=True)"
   ]
  },
  {
   "cell_type": "code",
   "execution_count": 8,
   "metadata": {},
   "outputs": [],
   "source": [
    "database_path = \"us_housing_db.sqlite\"\n",
    "engine = create_engine(f\"sqlite:///{database_path}\")\n",
    "conn = engine.connect()"
   ]
  },
  {
   "cell_type": "code",
   "execution_count": 9,
   "metadata": {},
   "outputs": [],
   "source": [
    "# Create a \"Metadata\" Layer That Abstracts our SQL Database\n",
    "# ----------------------------------\n",
    "# Create (if not already in existence) the tables associated with our classes.\n",
    "Base.metadata.create_all(engine)\n",
    "\n",
    "# Use this to clear out the db\n",
    "# ----------------------------------\n",
    "# Base.metadata.drop_all(engine)"
   ]
  },
  {
   "cell_type": "code",
   "execution_count": 10,
   "metadata": {},
   "outputs": [],
   "source": [
    "#left_join.to_dict(orient=\"records\")"
   ]
  },
  {
   "cell_type": "code",
   "execution_count": 11,
   "metadata": {},
   "outputs": [],
   "source": [
    "Session = sessionmaker(bind=conn)\n",
    "session = Session()\n",
    "session.bulk_insert_mappings(Housing, left_join.to_dict(orient=\"records\"))\n",
    "session.commit()\n",
    "session.close()"
   ]
  },
  {
   "cell_type": "code",
   "execution_count": null,
   "metadata": {},
   "outputs": [],
   "source": [
    "#'DP04_0081E','DP04_0082E','DP04_0083E','DP04_0084E','DP04_0085E','DP04_0086E','DP04_0087E','DP04_0088E',\n",
    "\n",
    "#'DP04_0081E':'$50k_less','DP04_0082E':'$50000to$99,999','DP04_0083E':'$100000to$149,999','DP04_0084E':'$150000to$199999',\n",
    "#'DP04_0085E':'$200000to$299999','DP04_0086E':'$300000to$499999','DP04_0087E':'$500000to$999999','DP04_0088E':'$1M_more',"
   ]
  }
 ],
 "metadata": {
  "kernelspec": {
   "display_name": "Python 3",
   "language": "python",
   "name": "python3"
  },
  "language_info": {
   "codemirror_mode": {
    "name": "ipython",
    "version": 3
   },
   "file_extension": ".py",
   "mimetype": "text/x-python",
   "name": "python",
   "nbconvert_exporter": "python",
   "pygments_lexer": "ipython3",
   "version": "3.7.7"
  }
 },
 "nbformat": 4,
 "nbformat_minor": 4
}
